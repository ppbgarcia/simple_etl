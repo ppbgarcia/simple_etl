{
 "cells": [
  {
   "cell_type": "code",
   "execution_count": 3,
   "metadata": {},
   "outputs": [],
   "source": [
    "from sqlalchemy import create_engine\n",
    "import pandas as pd\n",
    "from dotenv import load_dotenv\n",
    "import os\n",
    "from io import StringIO\n",
    "import boto3\n",
    "load_dotenv() \n",
    "\n",
    "host = os.getenv(\"HOST\")\n",
    "port = os.getenv(\"PORT\")\n",
    "database = os.getenv(\"DATABASE\")\n",
    "user = os.getenv(\"USER\")\n",
    "password = os.getenv(\"PASSWORD\")\n",
    "bucket = os.getenv('BUCKET')\n",
    "\n"
   ]
  },
  {
   "cell_type": "code",
   "execution_count": 6,
   "metadata": {},
   "outputs": [
    {
     "name": "stdout",
     "output_type": "stream",
     "text": [
      "Sucesso na inserção do arquivo no Bucket\n"
     ]
    }
   ],
   "source": [
    "path = '/home/pedrogarcia/Projetos/arquivos/videos-stats.csv'\n",
    "file_name = 'youtube-video-stats.csv'\n",
    "s3_client =boto3.client('s3')\n",
    "try:\n",
    "    s3_client.upload_file(path, bucket, file_name)\n",
    "    print('Sucesso na inserção do arquivo no Bucket')\n",
    "except Exception as e:\n",
    "    print(f\"An error occurred: {e}\")"
   ]
  }
 ],
 "metadata": {
  "kernelspec": {
   "display_name": "projetos_venv",
   "language": "python",
   "name": "python3"
  },
  "language_info": {
   "codemirror_mode": {
    "name": "ipython",
    "version": 3
   },
   "file_extension": ".py",
   "mimetype": "text/x-python",
   "name": "python",
   "nbconvert_exporter": "python",
   "pygments_lexer": "ipython3",
   "version": "3.11.2"
  }
 },
 "nbformat": 4,
 "nbformat_minor": 2
}
