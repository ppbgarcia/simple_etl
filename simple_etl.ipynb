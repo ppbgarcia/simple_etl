{
 "cells": [
  {
   "cell_type": "code",
   "execution_count": 1,
   "metadata": {},
   "outputs": [],
   "source": [
    "from sqlalchemy import create_engine\n",
    "import pandas as pd\n",
    "from dotenv import load_dotenv\n",
    "import os\n",
    "from io import StringIO\n",
    "import boto3\n",
    "import json\n",
    "\n",
    "load_dotenv() \n",
    "\n",
    "host = os.getenv(\"HOST\")\n",
    "port = os.getenv(\"PORT\")\n",
    "database = os.getenv(\"DATABASE\")\n",
    "user = os.getenv(\"USER\")\n",
    "password = os.getenv(\"PASSWORD\")\n",
    "bucket = os.getenv('BUCKET')\n",
    "\n"
   ]
  },
  {
   "cell_type": "markdown",
   "metadata": {},
   "source": [
    "**GET THE CSV FROM S3 BUCKET**"
   ]
  },
  {
   "cell_type": "code",
   "execution_count": 2,
   "metadata": {},
   "outputs": [
    {
     "name": "stdout",
     "output_type": "stream",
     "text": [
      "Get object - Success\n"
     ]
    }
   ],
   "source": [
    "file_name = 'youtube-video-stats.csv'\n",
    "s3_client =boto3.client('s3')\n",
    "try:\n",
    "    response = s3_client.get_object(Bucket = bucket, Key = file_name)\n",
    "    print('Get object - Success')\n",
    "except Exception as e:\n",
    "    print(f\"An error occurred: {e}\")"
   ]
  },
  {
   "cell_type": "code",
   "execution_count": 3,
   "metadata": {},
   "outputs": [],
   "source": [
    "csv_content = response['Body'].read().decode('utf-8')\n",
    "df_staging = pd.read_csv(StringIO(csv_content))"
   ]
  },
  {
   "cell_type": "markdown",
   "metadata": {},
   "source": [
    "**SIMPLY PRUNE SOME COLUMNS**"
   ]
  },
  {
   "cell_type": "code",
   "execution_count": 4,
   "metadata": {},
   "outputs": [],
   "source": [
    "df_staging = df_staging[['Title', 'Video ID', 'Published At', 'Keyword', 'Likes', 'Comments', 'Views']]\n",
    "df_staging['Published At'] = pd.to_datetime(df_staging['Published At'])"
   ]
  },
  {
   "cell_type": "code",
   "execution_count": 5,
   "metadata": {},
   "outputs": [
    {
     "data": {
      "text/html": [
       "<div>\n",
       "<style scoped>\n",
       "    .dataframe tbody tr th:only-of-type {\n",
       "        vertical-align: middle;\n",
       "    }\n",
       "\n",
       "    .dataframe tbody tr th {\n",
       "        vertical-align: top;\n",
       "    }\n",
       "\n",
       "    .dataframe thead th {\n",
       "        text-align: right;\n",
       "    }\n",
       "</style>\n",
       "<table border=\"1\" class=\"dataframe\">\n",
       "  <thead>\n",
       "    <tr style=\"text-align: right;\">\n",
       "      <th></th>\n",
       "      <th>Title</th>\n",
       "      <th>Video ID</th>\n",
       "      <th>Published At</th>\n",
       "      <th>Keyword</th>\n",
       "      <th>Likes</th>\n",
       "      <th>Comments</th>\n",
       "      <th>Views</th>\n",
       "    </tr>\n",
       "  </thead>\n",
       "  <tbody>\n",
       "    <tr>\n",
       "      <th>0</th>\n",
       "      <td>Apple Pay Is Killing the Physical Wallet After...</td>\n",
       "      <td>wAZZ-UWGVHI</td>\n",
       "      <td>2022-08-23</td>\n",
       "      <td>tech</td>\n",
       "      <td>3407.0</td>\n",
       "      <td>672.0</td>\n",
       "      <td>135612.0</td>\n",
       "    </tr>\n",
       "    <tr>\n",
       "      <th>1</th>\n",
       "      <td>The most EXPENSIVE thing I own.</td>\n",
       "      <td>b3x28s61q3c</td>\n",
       "      <td>2022-08-24</td>\n",
       "      <td>tech</td>\n",
       "      <td>76779.0</td>\n",
       "      <td>4306.0</td>\n",
       "      <td>1758063.0</td>\n",
       "    </tr>\n",
       "    <tr>\n",
       "      <th>2</th>\n",
       "      <td>My New House Gaming Setup is SICK!</td>\n",
       "      <td>4mgePWWCAmA</td>\n",
       "      <td>2022-08-23</td>\n",
       "      <td>tech</td>\n",
       "      <td>63825.0</td>\n",
       "      <td>3338.0</td>\n",
       "      <td>1564007.0</td>\n",
       "    </tr>\n",
       "    <tr>\n",
       "      <th>3</th>\n",
       "      <td>Petrol Vs Liquid Nitrogen | Freezing Experimen...</td>\n",
       "      <td>kXiYSI7H2b0</td>\n",
       "      <td>2022-08-23</td>\n",
       "      <td>tech</td>\n",
       "      <td>71566.0</td>\n",
       "      <td>1426.0</td>\n",
       "      <td>922918.0</td>\n",
       "    </tr>\n",
       "    <tr>\n",
       "      <th>4</th>\n",
       "      <td>Best Back to School Tech 2022!</td>\n",
       "      <td>ErMwWXQxHp0</td>\n",
       "      <td>2022-08-08</td>\n",
       "      <td>tech</td>\n",
       "      <td>96513.0</td>\n",
       "      <td>5155.0</td>\n",
       "      <td>1855644.0</td>\n",
       "    </tr>\n",
       "    <tr>\n",
       "      <th>...</th>\n",
       "      <td>...</td>\n",
       "      <td>...</td>\n",
       "      <td>...</td>\n",
       "      <td>...</td>\n",
       "      <td>...</td>\n",
       "      <td>...</td>\n",
       "      <td>...</td>\n",
       "    </tr>\n",
       "    <tr>\n",
       "      <th>1876</th>\n",
       "      <td>Should You Learn Machine Learning?</td>\n",
       "      <td>AO6urf07KjE</td>\n",
       "      <td>2021-06-14</td>\n",
       "      <td>machine learning</td>\n",
       "      <td>10259.0</td>\n",
       "      <td>416.0</td>\n",
       "      <td>386360.0</td>\n",
       "    </tr>\n",
       "    <tr>\n",
       "      <th>1877</th>\n",
       "      <td>Todos podemos aprender Machine learning</td>\n",
       "      <td>7ClLKBUvmRk</td>\n",
       "      <td>2017-10-08</td>\n",
       "      <td>machine learning</td>\n",
       "      <td>2981.0</td>\n",
       "      <td>72.0</td>\n",
       "      <td>431421.0</td>\n",
       "    </tr>\n",
       "    <tr>\n",
       "      <th>1878</th>\n",
       "      <td>Andrew Ng: Deep Learning, Education, and Real-...</td>\n",
       "      <td>0jspaMLxBig</td>\n",
       "      <td>2020-02-20</td>\n",
       "      <td>machine learning</td>\n",
       "      <td>5198.0</td>\n",
       "      <td>443.0</td>\n",
       "      <td>226152.0</td>\n",
       "    </tr>\n",
       "    <tr>\n",
       "      <th>1879</th>\n",
       "      <td>What is Machine Learning?</td>\n",
       "      <td>f_uwKZIAeM0</td>\n",
       "      <td>2017-01-11</td>\n",
       "      <td>machine learning</td>\n",
       "      <td>NaN</td>\n",
       "      <td>NaN</td>\n",
       "      <td>NaN</td>\n",
       "    </tr>\n",
       "    <tr>\n",
       "      <th>1880</th>\n",
       "      <td>Don&amp;#39;t learn machine learning</td>\n",
       "      <td>cyLWtMSry58</td>\n",
       "      <td>2020-03-30</td>\n",
       "      <td>machine learning</td>\n",
       "      <td>NaN</td>\n",
       "      <td>NaN</td>\n",
       "      <td>NaN</td>\n",
       "    </tr>\n",
       "  </tbody>\n",
       "</table>\n",
       "<p>1881 rows × 7 columns</p>\n",
       "</div>"
      ],
      "text/plain": [
       "                                                  Title     Video ID  \\\n",
       "0     Apple Pay Is Killing the Physical Wallet After...  wAZZ-UWGVHI   \n",
       "1                       The most EXPENSIVE thing I own.  b3x28s61q3c   \n",
       "2                    My New House Gaming Setup is SICK!  4mgePWWCAmA   \n",
       "3     Petrol Vs Liquid Nitrogen | Freezing Experimen...  kXiYSI7H2b0   \n",
       "4                        Best Back to School Tech 2022!  ErMwWXQxHp0   \n",
       "...                                                 ...          ...   \n",
       "1876                 Should You Learn Machine Learning?  AO6urf07KjE   \n",
       "1877            Todos podemos aprender Machine learning  7ClLKBUvmRk   \n",
       "1878  Andrew Ng: Deep Learning, Education, and Real-...  0jspaMLxBig   \n",
       "1879                          What is Machine Learning?  f_uwKZIAeM0   \n",
       "1880                   Don&#39;t learn machine learning  cyLWtMSry58   \n",
       "\n",
       "     Published At           Keyword    Likes  Comments      Views  \n",
       "0      2022-08-23              tech   3407.0     672.0   135612.0  \n",
       "1      2022-08-24              tech  76779.0    4306.0  1758063.0  \n",
       "2      2022-08-23              tech  63825.0    3338.0  1564007.0  \n",
       "3      2022-08-23              tech  71566.0    1426.0   922918.0  \n",
       "4      2022-08-08              tech  96513.0    5155.0  1855644.0  \n",
       "...           ...               ...      ...       ...        ...  \n",
       "1876   2021-06-14  machine learning  10259.0     416.0   386360.0  \n",
       "1877   2017-10-08  machine learning   2981.0      72.0   431421.0  \n",
       "1878   2020-02-20  machine learning   5198.0     443.0   226152.0  \n",
       "1879   2017-01-11  machine learning      NaN       NaN        NaN  \n",
       "1880   2020-03-30  machine learning      NaN       NaN        NaN  \n",
       "\n",
       "[1881 rows x 7 columns]"
      ]
     },
     "execution_count": 5,
     "metadata": {},
     "output_type": "execute_result"
    }
   ],
   "source": [
    "df_worked = df_staging\n",
    "df_worked"
   ]
  },
  {
   "cell_type": "markdown",
   "metadata": {},
   "source": [
    "**CREATE CONNECTION TO THE DATABASE**"
   ]
  },
  {
   "cell_type": "code",
   "execution_count": 6,
   "metadata": {},
   "outputs": [],
   "source": [
    "engine = create_engine(f\"mysql+pymysql://{user}:{password}@{host}:{port}/{database}\")\n"
   ]
  },
  {
   "cell_type": "markdown",
   "metadata": {},
   "source": [
    "**INSERT THE DATAFRAME INTO A RDS DATABASE**"
   ]
  },
  {
   "cell_type": "code",
   "execution_count": 7,
   "metadata": {},
   "outputs": [
    {
     "name": "stdout",
     "output_type": "stream",
     "text": [
      "Table created succesfully\n"
     ]
    }
   ],
   "source": [
    "try:\n",
    "    df_worked.to_sql('youtube_stats', con = engine, if_exists = 'replace')\n",
    "    print('Table created succesfully')\n",
    "except Exception as e:\n",
    "    print(f\"An error occurred: {e}\")"
   ]
  }
 ],
 "metadata": {
  "kernelspec": {
   "display_name": "projetos_venv",
   "language": "python",
   "name": "python3"
  },
  "language_info": {
   "codemirror_mode": {
    "name": "ipython",
    "version": 3
   },
   "file_extension": ".py",
   "mimetype": "text/x-python",
   "name": "python",
   "nbconvert_exporter": "python",
   "pygments_lexer": "ipython3",
   "version": "3.11.2"
  }
 },
 "nbformat": 4,
 "nbformat_minor": 2
}
